{
 "cells": [
  {
   "cell_type": "code",
   "execution_count": 5,
   "metadata": {},
   "outputs": [
    {
     "name": "stdout",
     "output_type": "stream",
     "text": [
      "     Name  Salary  Age\n",
      "0    John   50000   34\n",
      "1   Sally  120000   45\n",
      "2  Alyssa   80000   27\n"
     ]
    }
   ],
   "source": [
    "import pandas as pd\n",
    "df = pd.read_csv('salaries.csv')\n",
    "print(df)"
   ]
  },
  {
   "cell_type": "code",
   "execution_count": 6,
   "metadata": {},
   "outputs": [
    {
     "name": "stdout",
     "output_type": "stream",
     "text": [
      "0     50000\n",
      "1    120000\n",
      "2     80000\n",
      "Name: Salary, dtype: int64\n"
     ]
    }
   ],
   "source": [
    "print(df['Salary'])"
   ]
  },
  {
   "cell_type": "code",
   "execution_count": 13,
   "metadata": {},
   "outputs": [
    {
     "name": "stdout",
     "output_type": "stream",
     "text": [
      "     Name  Salary\n",
      "0    John   50000\n",
      "1   Sally  120000\n",
      "2  Alyssa   80000 \n",
      "\n",
      "50000 \n",
      "\n",
      "120000 \n",
      "\n",
      "83333.33333333333 \n",
      "\n",
      "1 \n",
      "\n",
      "0\n"
     ]
    }
   ],
   "source": [
    "print( df[['Name', 'Salary']], '\\n')\n",
    "print( df[ 'Salary'].min(), '\\n' )\n",
    "print( df[ 'Salary'].max(), '\\n' )\n",
    "print( df[ 'Salary'].mean(), '\\n' )\n",
    "print( df[ 'Salary'].argmax(), '\\n' )\n",
    "print( df[ 'Salary'].argmin() )"
   ]
  },
  {
   "cell_type": "code",
   "execution_count": 10,
   "metadata": {},
   "outputs": [
    {
     "name": "stdout",
     "output_type": "stream",
     "text": [
      "0     True\n",
      "1     True\n",
      "2    False\n",
      "Name: Age, dtype: bool \n",
      "\n"
     ]
    }
   ],
   "source": [
    "ser_of_bool = df[ 'Age' ] > 30\n",
    "print( ser_of_bool, '\\n')"
   ]
  },
  {
   "cell_type": "code",
   "execution_count": 12,
   "metadata": {},
   "outputs": [
    {
     "name": "stdout",
     "output_type": "stream",
     "text": [
      "    Name  Salary  Age\n",
      "0   John   50000   34\n",
      "1  Sally  120000   45 \n",
      "\n"
     ]
    }
   ],
   "source": [
    "ser_of_bool = df[ 'Age' ] > 30\n",
    "print( df[ ser_of_bool ], '\\n')"
   ]
  },
  {
   "cell_type": "code",
   "execution_count": 14,
   "metadata": {},
   "outputs": [
    {
     "name": "stdout",
     "output_type": "stream",
     "text": [
      "[34 45 27] \n",
      "\n",
      "3\n"
     ]
    }
   ],
   "source": [
    "print( df['Age'].unique(), '\\n' ) # list all of unique value in the list \n",
    "print( df[ 'Age' ].nunique() ) # show the total number of unique values"
   ]
  },
  {
   "cell_type": "code",
   "execution_count": 19,
   "metadata": {},
   "outputs": [
    {
     "name": "stdout",
     "output_type": "stream",
     "text": [
      "Index(['Name', 'Salary', 'Age'], dtype='object') \n",
      "\n",
      "<class 'pandas.core.frame.DataFrame'>\n",
      "RangeIndex: 3 entries, 0 to 2\n",
      "Data columns (total 3 columns):\n",
      " #   Column  Non-Null Count  Dtype \n",
      "---  ------  --------------  ----- \n",
      " 0   Name    3 non-null      object\n",
      " 1   Salary  3 non-null      int64 \n",
      " 2   Age     3 non-null      int64 \n",
      "dtypes: int64(2), object(1)\n",
      "memory usage: 200.0+ bytes\n",
      "None \n",
      "\n",
      "              Salary        Age\n",
      "count       3.000000   3.000000\n",
      "mean    83333.333333  35.333333\n",
      "std     35118.845843   9.073772\n",
      "min     50000.000000  27.000000\n",
      "25%     65000.000000  30.500000\n",
      "50%     80000.000000  34.000000\n",
      "75%    100000.000000  39.500000\n",
      "max    120000.000000  45.000000 \n",
      "\n",
      "RangeIndex(start=0, stop=3, step=1) \n",
      "\n"
     ]
    }
   ],
   "source": [
    "print( df.columns, '\\n' )\n",
    "print( df.info(), '\\n' )\n",
    "print( df.describe(), '\\n' )\n",
    "print( df.index, '\\n' )"
   ]
  }
 ],
 "metadata": {
  "kernelspec": {
   "display_name": "Python 3.10.5 64-bit",
   "language": "python",
   "name": "python3"
  },
  "language_info": {
   "codemirror_mode": {
    "name": "ipython",
    "version": 3
   },
   "file_extension": ".py",
   "mimetype": "text/x-python",
   "name": "python",
   "nbconvert_exporter": "python",
   "pygments_lexer": "ipython3",
   "version": "3.10.5"
  },
  "orig_nbformat": 4,
  "vscode": {
   "interpreter": {
    "hash": "aee8b7b246df8f9039afb4144a1f6fd8d2ca17a180786b69acc140d282b71a49"
   }
  }
 },
 "nbformat": 4,
 "nbformat_minor": 2
}
